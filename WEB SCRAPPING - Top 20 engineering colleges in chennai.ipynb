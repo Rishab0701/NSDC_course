{
 "cells": [
  {
   "cell_type": "markdown",
   "id": "6f0c17e1",
   "metadata": {},
   "source": [
    "#                                          WEB SCRAPPING"
   ]
  },
  {
   "cell_type": "code",
   "execution_count": 1,
   "id": "911632a7",
   "metadata": {},
   "outputs": [],
   "source": [
    "from bs4 import BeautifulSoup \n",
    "import requests "
   ]
  },
  {
   "cell_type": "markdown",
   "id": "31d1e786",
   "metadata": {},
   "source": [
    "##### The Function \"scrape\" requests to scrape the website and return only the text elements of the link in the url"
   ]
  },
  {
   "cell_type": "code",
   "execution_count": 2,
   "id": "d8d0424f",
   "metadata": {},
   "outputs": [],
   "source": [
    "def scrape(url,link):\n",
    "    \n",
    "    res=requests.get(url)\n",
    "    \n",
    "    soup=BeautifulSoup(res.text)\n",
    "    \n",
    "    variable=soup.select(link)\n",
    "    \n",
    "    newlist=[]\n",
    "    for i in variable:\n",
    "        newlist.append(i.text)\n",
    "        \n",
    "    if newlist == []:\n",
    "        return res #to inform the user when access is denied\n",
    "    else:\n",
    "        return newlist"
   ]
  },
  {
   "cell_type": "code",
   "execution_count": 3,
   "id": "0ba94fa3",
   "metadata": {},
   "outputs": [],
   "source": [
    "#url is the address of the website\n",
    "#link is the link from the selector tool"
   ]
  },
  {
   "cell_type": "code",
   "execution_count": 4,
   "id": "3f10d6b8",
   "metadata": {},
   "outputs": [
    {
     "data": {
      "text/plain": [
       "<Response [403]>"
      ]
     },
     "execution_count": 4,
     "metadata": {},
     "output_type": "execute_result"
    }
   ],
   "source": [
    "scrape(\"https://collegedunia.com/engineering/chennai-colleges\",\".m-0\")\n",
    "# 403 represents Forbidden Error "
   ]
  },
  {
   "cell_type": "code",
   "execution_count": 5,
   "id": "309a984b",
   "metadata": {},
   "outputs": [],
   "source": [
    "college_name=scrape('https://www.shiksha.com/engineering/ranking/top-engineering-colleges-in-chennai/44-2-0-64-0','.link')"
   ]
  },
  {
   "cell_type": "code",
   "execution_count": 6,
   "id": "788784dc",
   "metadata": {},
   "outputs": [
    {
     "data": {
      "text/plain": [
       "['IIT Madras - Indian Institute of Technology',\n",
       " 'College of Engineering, Anna University',\n",
       " 'SRM Institute of Science and Technology, Chennai',\n",
       " 'SSN College of Engineering',\n",
       " 'Sathyabama Institute of Science and Technology',\n",
       " 'Vel Tech Rangarajan Dr. Sagunthala R and D Institute of Science and Technology',\n",
       " 'Sri Sai Ram Engineering College',\n",
       " 'Rajalakshmi Engineering College',\n",
       " 'Crescent School of Life Sciences (B.S.Abdur Rahman University)',\n",
       " 'Saveetha Institute of Medical and Technical Sciences, Poonamallee',\n",
       " 'VELS School of Engineering',\n",
       " 'Hindustan Institute of Technology and Science',\n",
       " \"St. Joseph's College of Engineering\",\n",
       " 'SRM Easwari Engineering College',\n",
       " 'Chennai Institute of Technology',\n",
       " 'IIITDM Kancheepuram - Indian Institute of Information Technology Design & Manufacturing',\n",
       " 'KCG College of Technology',\n",
       " 'SEC - Saveetha Engineering College',\n",
       " 'Sri Sai Ram Institute of Technology',\n",
       " 'Sri Venkateswara College of Engineering, Kanchipuram',\n",
       " 'Academy of Maritime Education and Training',\n",
       " 'Panimalar Engineering College']"
      ]
     },
     "execution_count": 6,
     "metadata": {},
     "output_type": "execute_result"
    }
   ],
   "source": [
    "college_name"
   ]
  },
  {
   "cell_type": "markdown",
   "id": "d3639fa1",
   "metadata": {},
   "source": [
    "##### len of every answer can be used to verify if there is excess or missing value"
   ]
  },
  {
   "cell_type": "code",
   "execution_count": 7,
   "id": "ee2e65b8",
   "metadata": {},
   "outputs": [
    {
     "data": {
      "text/plain": [
       "22"
      ]
     },
     "execution_count": 7,
     "metadata": {},
     "output_type": "execute_result"
    }
   ],
   "source": [
    "len(college_name)\n"
   ]
  },
  {
   "cell_type": "code",
   "execution_count": 8,
   "id": "126785d0",
   "metadata": {},
   "outputs": [],
   "source": [
    "rating = scrape('https://www.shiksha.com/engineering/ranking/top-engineering-colleges-in-chennai/44-2-0-64-0?pageNo=2&rs[]=99&ct[]=64&rf=filters&st[]=123&uaf[]=location','.rating_popup')"
   ]
  },
  {
   "cell_type": "code",
   "execution_count": 9,
   "id": "91acc559",
   "metadata": {},
   "outputs": [
    {
     "data": {
      "text/plain": [
       "['Placements4.5Infrastructure4.5Faculty & Course Curriculum4.5Crowd & Campus Life4.8Value for Money4.8View all 168 reviews',\n",
       " 'Placements4.1Infrastructure4.3Faculty & Course Curriculum4.1Crowd & Campus Life4.8Value for Money4.8View all 120 reviews',\n",
       " 'Placements3.8Infrastructure4.4Faculty & Course Curriculum3.7Crowd & Campus Life4.4Value for Money3.6View all 1383 reviews',\n",
       " 'Placements4.3Infrastructure4.7Faculty & Course Curriculum4.3Crowd & Campus Life4.7Value for Money4.4View all 119 reviews',\n",
       " 'Placements3.7Infrastructure3.7Faculty & Course Curriculum3.8Crowd & Campus Life3.7Value for Money3.7View all 499 reviews',\n",
       " 'Placements3.9Infrastructure4.1Faculty & Course Curriculum3.9Crowd & Campus Life4.0Value for Money4.0View all 289 reviews',\n",
       " 'Placements3.8Infrastructure4.0Faculty & Course Curriculum4.0Crowd & Campus Life3.6Value for Money3.7View all 77 reviews',\n",
       " 'Placements4.4Infrastructure4.3Faculty & Course Curriculum4.4Crowd & Campus Life4.5Value for Money4.3View all 363 reviews',\n",
       " 'Placements4.2Infrastructure4.6Faculty & Course Curriculum4.7Crowd & Campus Life4.7Value for Money4.5View all 31 reviews',\n",
       " 'Placements4.0Infrastructure4.3Faculty & Course Curriculum4.0Crowd & Campus Life4.0Value for Money3.8View all 4 reviews',\n",
       " 'Placements3.4Infrastructure3.7Faculty & Course Curriculum3.6Crowd & Campus Life3.8Value for Money3.7View all 33 reviews',\n",
       " 'Placements3.1Infrastructure3.9Faculty & Course Curriculum3.7Crowd & Campus Life3.9Value for Money3.5View all 238 reviews',\n",
       " 'Placements3.7Infrastructure3.9Faculty & Course Curriculum3.7Crowd & Campus Life3.6Value for Money3.7View all 126 reviews',\n",
       " 'Placements4.3Infrastructure4.1Faculty & Course Curriculum4.3Crowd & Campus Life4.4Value for Money4.0View all 148 reviews',\n",
       " 'Placements4.6Infrastructure4.1Faculty & Course Curriculum4.4Crowd & Campus Life4.4Value for Money4.4View all 103 reviews',\n",
       " 'Placements3.4Infrastructure4.7Faculty & Course Curriculum4.3Crowd & Campus Life4.3Value for Money4.2View all 34 reviews',\n",
       " 'Placements3.4Infrastructure3.9Faculty & Course Curriculum3.8Crowd & Campus Life3.9Value for Money3.8View all 98 reviews',\n",
       " 'Placements4.0Infrastructure4.4Faculty & Course Curriculum4.0Crowd & Campus Life4.3Value for Money3.8View all 283 reviews',\n",
       " 'Placements3.6Infrastructure3.6Faculty & Course Curriculum3.6Crowd & Campus Life3.3Value for Money3.4View all 49 reviews',\n",
       " 'Placements4.1Infrastructure4.2Faculty & Course Curriculum4.2Crowd & Campus Life4.3Value for Money4.1View all 123 reviews',\n",
       " 'Placements3.4Infrastructure3.4Faculty & Course Curriculum4.1Crowd & Campus Life3.7Value for Money3.5View all 74 reviews',\n",
       " 'Placements3.8Infrastructure4.6Faculty & Course Curriculum4.0Crowd & Campus Life3.8Value for Money4.0View all 161 reviews']"
      ]
     },
     "execution_count": 9,
     "metadata": {},
     "output_type": "execute_result"
    }
   ],
   "source": [
    "rating"
   ]
  },
  {
   "cell_type": "markdown",
   "id": "35cb2124",
   "metadata": {},
   "source": [
    "#### Regex module can be used to find the required elements from the above list"
   ]
  },
  {
   "cell_type": "code",
   "execution_count": 10,
   "id": "755ed458",
   "metadata": {},
   "outputs": [],
   "source": [
    "import re"
   ]
  },
  {
   "cell_type": "code",
   "execution_count": 11,
   "id": "585b2ed1",
   "metadata": {},
   "outputs": [],
   "source": [
    "college_ratings=[]\n",
    "for i in rating:\n",
    "    college_ratings.append(re.findall('([0-9.9]+)', i))"
   ]
  },
  {
   "cell_type": "code",
   "execution_count": 12,
   "id": "bf711b79",
   "metadata": {
    "scrolled": false
   },
   "outputs": [
    {
     "data": {
      "text/plain": [
       "[['4.5', '4.5', '4.5', '4.8', '4.8', '168'],\n",
       " ['4.1', '4.3', '4.1', '4.8', '4.8', '120'],\n",
       " ['3.8', '4.4', '3.7', '4.4', '3.6', '1383'],\n",
       " ['4.3', '4.7', '4.3', '4.7', '4.4', '119'],\n",
       " ['3.7', '3.7', '3.8', '3.7', '3.7', '499'],\n",
       " ['3.9', '4.1', '3.9', '4.0', '4.0', '289'],\n",
       " ['3.8', '4.0', '4.0', '3.6', '3.7', '77'],\n",
       " ['4.4', '4.3', '4.4', '4.5', '4.3', '363'],\n",
       " ['4.2', '4.6', '4.7', '4.7', '4.5', '31'],\n",
       " ['4.0', '4.3', '4.0', '4.0', '3.8', '4'],\n",
       " ['3.4', '3.7', '3.6', '3.8', '3.7', '33'],\n",
       " ['3.1', '3.9', '3.7', '3.9', '3.5', '238'],\n",
       " ['3.7', '3.9', '3.7', '3.6', '3.7', '126'],\n",
       " ['4.3', '4.1', '4.3', '4.4', '4.0', '148'],\n",
       " ['4.6', '4.1', '4.4', '4.4', '4.4', '103'],\n",
       " ['3.4', '4.7', '4.3', '4.3', '4.2', '34'],\n",
       " ['3.4', '3.9', '3.8', '3.9', '3.8', '98'],\n",
       " ['4.0', '4.4', '4.0', '4.3', '3.8', '283'],\n",
       " ['3.6', '3.6', '3.6', '3.3', '3.4', '49'],\n",
       " ['4.1', '4.2', '4.2', '4.3', '4.1', '123'],\n",
       " ['3.4', '3.4', '4.1', '3.7', '3.5', '74'],\n",
       " ['3.8', '4.6', '4.0', '3.8', '4.0', '161']]"
      ]
     },
     "execution_count": 12,
     "metadata": {},
     "output_type": "execute_result"
    }
   ],
   "source": [
    "college_ratings"
   ]
  },
  {
   "cell_type": "code",
   "execution_count": 13,
   "id": "443c60ce",
   "metadata": {},
   "outputs": [],
   "source": [
    "Placement_rating = []\n",
    "Infrastructure_rating = []\n",
    "Course_rating = []\n",
    "Campuslife = []\n",
    "Value_for_money = []    "
   ]
  },
  {
   "cell_type": "code",
   "execution_count": 14,
   "id": "4642f03b",
   "metadata": {},
   "outputs": [],
   "source": [
    "for j in college_ratings:\n",
    "    Placement_rating.append(j[0])\n",
    "    Infrastructure_rating.append(j[1])\n",
    "    Course_rating.append(j[2])\n",
    "    Campuslife.append(j[3])\n",
    "    Value_for_money.append(j[4])"
   ]
  },
  {
   "cell_type": "code",
   "execution_count": 15,
   "id": "8b670400",
   "metadata": {},
   "outputs": [
    {
     "data": {
      "text/plain": [
       "22"
      ]
     },
     "execution_count": 15,
     "metadata": {},
     "output_type": "execute_result"
    }
   ],
   "source": [
    "len(Placement_rating)"
   ]
  },
  {
   "cell_type": "code",
   "execution_count": 16,
   "id": "ee992460",
   "metadata": {},
   "outputs": [],
   "source": [
    "fee= scrape('https://www.shiksha.com/engineering/ranking/top-engineering-colleges-in-chennai/44-2-0-64-0','.text--secondary:nth-child(2)')"
   ]
  },
  {
   "cell_type": "code",
   "execution_count": 17,
   "id": "2c5bdd49",
   "metadata": {},
   "outputs": [
    {
     "data": {
      "text/plain": [
       "['Fees: ₹ 8.19 Lakh',\n",
       " 'Fees: ₹ 2.00 Lakh',\n",
       " 'Fees: ₹ 16.10 Lakh',\n",
       " 'Fees: ₹ 2.00 Lakh',\n",
       " 'Salary : ₹ 4.75 Lakh ',\n",
       " 'Fees: ₹ 9.25 Lakh',\n",
       " 'Fees: ₹ 2.00 Lakh',\n",
       " 'Fees: ₹ 2.00 Lakh',\n",
       " 'Fees: ₹ 1.50 Lakh',\n",
       " 'Fees: ₹ 6.00 Lakh',\n",
       " 'Fees: ₹ 4.36 Lakh',\n",
       " 'Fees: ₹ 10.63 Lakh',\n",
       " 'Fees: ₹ 2.00 Lakh',\n",
       " 'Fees: ₹ 2.00 Lakh',\n",
       " 'Fees: ₹ 2.00 Lakh',\n",
       " 'Fees: ₹ 5.62 Lakh',\n",
       " 'Fees: ₹ 2.00 Lakh',\n",
       " 'Fees: ₹ 2.00 Lakh',\n",
       " 'Fees: ₹ 2.20 Lakh',\n",
       " 'Fees: ₹ 2.00 Lakh',\n",
       " 'Fees: ₹ 13.90 Lakh',\n",
       " 'Fees: ₹ 2.00 Lakh']"
      ]
     },
     "execution_count": 17,
     "metadata": {},
     "output_type": "execute_result"
    }
   ],
   "source": [
    "fee"
   ]
  },
  {
   "cell_type": "code",
   "execution_count": 18,
   "id": "5e38c179",
   "metadata": {},
   "outputs": [
    {
     "data": {
      "text/plain": [
       "[' 8.19 Lakh',\n",
       " ' 2.00 Lakh',\n",
       " ' 16.10 Lakh',\n",
       " ' 2.00 Lakh',\n",
       " ' 4.75 Lakh',\n",
       " ' 9.25 Lakh',\n",
       " ' 2.00 Lakh',\n",
       " ' 2.00 Lakh',\n",
       " ' 1.50 Lakh',\n",
       " ' 6.00 Lakh',\n",
       " ' 4.36 Lakh',\n",
       " ' 10.63 Lakh',\n",
       " ' 2.00 Lakh',\n",
       " ' 2.00 Lakh',\n",
       " ' 2.00 Lakh',\n",
       " ' 5.62 Lakh',\n",
       " ' 2.00 Lakh',\n",
       " ' 2.00 Lakh',\n",
       " ' 2.20 Lakh',\n",
       " ' 2.00 Lakh',\n",
       " ' 13.90 Lakh',\n",
       " ' 2.00 Lakh']"
      ]
     },
     "execution_count": 18,
     "metadata": {},
     "output_type": "execute_result"
    }
   ],
   "source": [
    "college_fees = []\n",
    "for l in fee:\n",
    "    college_fees+= re.findall('[0-9.9 ]+Lakh', l )\n",
    "college_fees"
   ]
  },
  {
   "cell_type": "code",
   "execution_count": 19,
   "id": "bcee861f",
   "metadata": {},
   "outputs": [
    {
     "data": {
      "text/plain": [
       "22"
      ]
     },
     "execution_count": 19,
     "metadata": {},
     "output_type": "execute_result"
    }
   ],
   "source": [
    "len(college_fees)"
   ]
  },
  {
   "cell_type": "code",
   "execution_count": 20,
   "id": "8ee8e9ac",
   "metadata": {},
   "outputs": [],
   "source": [
    "NIRF_rating =scrape('https://www.shiksha.com/engineering/ranking/top-engineering-colleges-in-chennai/44-2-0-64-0','.circleText')"
   ]
  },
  {
   "cell_type": "code",
   "execution_count": 21,
   "id": "bc51586e",
   "metadata": {},
   "outputs": [
    {
     "data": {
      "text/plain": [
       "['1',\n",
       " '18',\n",
       " '34',\n",
       " '45',\n",
       " '55',\n",
       " '93',\n",
       " '109',\n",
       " '110',\n",
       " '112',\n",
       " '121',\n",
       " '125',\n",
       " '172',\n",
       " '183',\n",
       " '189',\n",
       " '201-250',\n",
       " '201-250',\n",
       " '201-250',\n",
       " '201-250',\n",
       " '201-250',\n",
       " '201-250',\n",
       " '251-300',\n",
       " '251-300']"
      ]
     },
     "execution_count": 21,
     "metadata": {},
     "output_type": "execute_result"
    }
   ],
   "source": [
    "NIRF_rating"
   ]
  },
  {
   "cell_type": "code",
   "execution_count": 22,
   "id": "a42d14db",
   "metadata": {},
   "outputs": [
    {
     "data": {
      "text/plain": [
       "22"
      ]
     },
     "execution_count": 22,
     "metadata": {},
     "output_type": "execute_result"
    }
   ],
   "source": [
    "len(NIRF_rating)"
   ]
  },
  {
   "cell_type": "code",
   "execution_count": 23,
   "id": "dbe1bca0",
   "metadata": {},
   "outputs": [
    {
     "data": {
      "text/plain": [
       "{'College Name': ['IIT Madras - Indian Institute of Technology',\n",
       "  'College of Engineering, Anna University',\n",
       "  'SRM Institute of Science and Technology, Chennai',\n",
       "  'SSN College of Engineering',\n",
       "  'Sathyabama Institute of Science and Technology',\n",
       "  'Vel Tech Rangarajan Dr. Sagunthala R and D Institute of Science and Technology',\n",
       "  'Sri Sai Ram Engineering College',\n",
       "  'Rajalakshmi Engineering College',\n",
       "  'Crescent School of Life Sciences (B.S.Abdur Rahman University)',\n",
       "  'Saveetha Institute of Medical and Technical Sciences, Poonamallee',\n",
       "  'VELS School of Engineering',\n",
       "  'Hindustan Institute of Technology and Science',\n",
       "  \"St. Joseph's College of Engineering\",\n",
       "  'SRM Easwari Engineering College',\n",
       "  'Chennai Institute of Technology',\n",
       "  'IIITDM Kancheepuram - Indian Institute of Information Technology Design & Manufacturing',\n",
       "  'KCG College of Technology',\n",
       "  'SEC - Saveetha Engineering College',\n",
       "  'Sri Sai Ram Institute of Technology',\n",
       "  'Sri Venkateswara College of Engineering, Kanchipuram',\n",
       "  'Academy of Maritime Education and Training',\n",
       "  'Panimalar Engineering College'],\n",
       " 'Placement rating': ['4.5',\n",
       "  '4.1',\n",
       "  '3.8',\n",
       "  '4.3',\n",
       "  '3.7',\n",
       "  '3.9',\n",
       "  '3.8',\n",
       "  '4.4',\n",
       "  '4.2',\n",
       "  '4.0',\n",
       "  '3.4',\n",
       "  '3.1',\n",
       "  '3.7',\n",
       "  '4.3',\n",
       "  '4.6',\n",
       "  '3.4',\n",
       "  '3.4',\n",
       "  '4.0',\n",
       "  '3.6',\n",
       "  '4.1',\n",
       "  '3.4',\n",
       "  '3.8'],\n",
       " 'Infrastructure rating': ['4.5',\n",
       "  '4.3',\n",
       "  '4.4',\n",
       "  '4.7',\n",
       "  '3.7',\n",
       "  '4.1',\n",
       "  '4.0',\n",
       "  '4.3',\n",
       "  '4.6',\n",
       "  '4.3',\n",
       "  '3.7',\n",
       "  '3.9',\n",
       "  '3.9',\n",
       "  '4.1',\n",
       "  '4.1',\n",
       "  '4.7',\n",
       "  '3.9',\n",
       "  '4.4',\n",
       "  '3.6',\n",
       "  '4.2',\n",
       "  '3.4',\n",
       "  '4.6'],\n",
       " 'Course rating': ['4.5',\n",
       "  '4.1',\n",
       "  '3.7',\n",
       "  '4.3',\n",
       "  '3.8',\n",
       "  '3.9',\n",
       "  '4.0',\n",
       "  '4.4',\n",
       "  '4.7',\n",
       "  '4.0',\n",
       "  '3.6',\n",
       "  '3.7',\n",
       "  '3.7',\n",
       "  '4.3',\n",
       "  '4.4',\n",
       "  '4.3',\n",
       "  '3.8',\n",
       "  '4.0',\n",
       "  '3.6',\n",
       "  '4.2',\n",
       "  '4.1',\n",
       "  '4.0'],\n",
       " 'Campus life': ['4.8',\n",
       "  '4.8',\n",
       "  '4.4',\n",
       "  '4.7',\n",
       "  '3.7',\n",
       "  '4.0',\n",
       "  '3.6',\n",
       "  '4.5',\n",
       "  '4.7',\n",
       "  '4.0',\n",
       "  '3.8',\n",
       "  '3.9',\n",
       "  '3.6',\n",
       "  '4.4',\n",
       "  '4.4',\n",
       "  '4.3',\n",
       "  '3.9',\n",
       "  '4.3',\n",
       "  '3.3',\n",
       "  '4.3',\n",
       "  '3.7',\n",
       "  '3.8'],\n",
       " 'Value for money': ['4.8',\n",
       "  '4.8',\n",
       "  '3.6',\n",
       "  '4.4',\n",
       "  '3.7',\n",
       "  '4.0',\n",
       "  '3.7',\n",
       "  '4.3',\n",
       "  '4.5',\n",
       "  '3.8',\n",
       "  '3.7',\n",
       "  '3.5',\n",
       "  '3.7',\n",
       "  '4.0',\n",
       "  '4.4',\n",
       "  '4.2',\n",
       "  '3.8',\n",
       "  '3.8',\n",
       "  '3.4',\n",
       "  '4.1',\n",
       "  '3.5',\n",
       "  '4.0'],\n",
       " 'College fees': [' 8.19 Lakh',\n",
       "  ' 2.00 Lakh',\n",
       "  ' 16.10 Lakh',\n",
       "  ' 2.00 Lakh',\n",
       "  ' 4.75 Lakh',\n",
       "  ' 9.25 Lakh',\n",
       "  ' 2.00 Lakh',\n",
       "  ' 2.00 Lakh',\n",
       "  ' 1.50 Lakh',\n",
       "  ' 6.00 Lakh',\n",
       "  ' 4.36 Lakh',\n",
       "  ' 10.63 Lakh',\n",
       "  ' 2.00 Lakh',\n",
       "  ' 2.00 Lakh',\n",
       "  ' 2.00 Lakh',\n",
       "  ' 5.62 Lakh',\n",
       "  ' 2.00 Lakh',\n",
       "  ' 2.00 Lakh',\n",
       "  ' 2.20 Lakh',\n",
       "  ' 2.00 Lakh',\n",
       "  ' 13.90 Lakh',\n",
       "  ' 2.00 Lakh'],\n",
       " 'NIRF rating': ['1',\n",
       "  '18',\n",
       "  '34',\n",
       "  '45',\n",
       "  '55',\n",
       "  '93',\n",
       "  '109',\n",
       "  '110',\n",
       "  '112',\n",
       "  '121',\n",
       "  '125',\n",
       "  '172',\n",
       "  '183',\n",
       "  '189',\n",
       "  '201-250',\n",
       "  '201-250',\n",
       "  '201-250',\n",
       "  '201-250',\n",
       "  '201-250',\n",
       "  '201-250',\n",
       "  '251-300',\n",
       "  '251-300']}"
      ]
     },
     "execution_count": 23,
     "metadata": {},
     "output_type": "execute_result"
    }
   ],
   "source": [
    "import pandas as pd\n",
    "d={}\n",
    "d['College Name']= college_name\n",
    "d['Placement rating'] = Placement_rating\n",
    "d['Infrastructure rating'] = Infrastructure_rating\n",
    "d['Course rating'] = Course_rating\n",
    "d['Campus life'] = Campuslife\n",
    "d['Value for money'] = Value_for_money\n",
    "d['College fees'] = college_fees\n",
    "d['NIRF rating'] = NIRF_rating\n",
    "\n",
    "d"
   ]
  },
  {
   "cell_type": "code",
   "execution_count": 24,
   "id": "7566b44f",
   "metadata": {},
   "outputs": [],
   "source": [
    "df = pd.DataFrame(d,columns=['NIRF rating', 'College Name','College fees','Placement rating','Infrastructure rating','Course rating','Campus life','Value for money'])"
   ]
  },
  {
   "cell_type": "code",
   "execution_count": 25,
   "id": "a0f66412",
   "metadata": {},
   "outputs": [
    {
     "data": {
      "text/html": [
       "<div>\n",
       "<style scoped>\n",
       "    .dataframe tbody tr th:only-of-type {\n",
       "        vertical-align: middle;\n",
       "    }\n",
       "\n",
       "    .dataframe tbody tr th {\n",
       "        vertical-align: top;\n",
       "    }\n",
       "\n",
       "    .dataframe thead th {\n",
       "        text-align: right;\n",
       "    }\n",
       "</style>\n",
       "<table border=\"1\" class=\"dataframe\">\n",
       "  <thead>\n",
       "    <tr style=\"text-align: right;\">\n",
       "      <th></th>\n",
       "      <th>NIRF rating</th>\n",
       "      <th>College Name</th>\n",
       "      <th>College fees</th>\n",
       "      <th>Placement rating</th>\n",
       "      <th>Infrastructure rating</th>\n",
       "      <th>Course rating</th>\n",
       "      <th>Campus life</th>\n",
       "      <th>Value for money</th>\n",
       "    </tr>\n",
       "  </thead>\n",
       "  <tbody>\n",
       "    <tr>\n",
       "      <th>0</th>\n",
       "      <td>1</td>\n",
       "      <td>IIT Madras - Indian Institute of Technology</td>\n",
       "      <td>8.19 Lakh</td>\n",
       "      <td>4.5</td>\n",
       "      <td>4.5</td>\n",
       "      <td>4.5</td>\n",
       "      <td>4.8</td>\n",
       "      <td>4.8</td>\n",
       "    </tr>\n",
       "    <tr>\n",
       "      <th>1</th>\n",
       "      <td>18</td>\n",
       "      <td>College of Engineering, Anna University</td>\n",
       "      <td>2.00 Lakh</td>\n",
       "      <td>4.1</td>\n",
       "      <td>4.3</td>\n",
       "      <td>4.1</td>\n",
       "      <td>4.8</td>\n",
       "      <td>4.8</td>\n",
       "    </tr>\n",
       "    <tr>\n",
       "      <th>2</th>\n",
       "      <td>34</td>\n",
       "      <td>SRM Institute of Science and Technology, Chennai</td>\n",
       "      <td>16.10 Lakh</td>\n",
       "      <td>3.8</td>\n",
       "      <td>4.4</td>\n",
       "      <td>3.7</td>\n",
       "      <td>4.4</td>\n",
       "      <td>3.6</td>\n",
       "    </tr>\n",
       "    <tr>\n",
       "      <th>3</th>\n",
       "      <td>45</td>\n",
       "      <td>SSN College of Engineering</td>\n",
       "      <td>2.00 Lakh</td>\n",
       "      <td>4.3</td>\n",
       "      <td>4.7</td>\n",
       "      <td>4.3</td>\n",
       "      <td>4.7</td>\n",
       "      <td>4.4</td>\n",
       "    </tr>\n",
       "    <tr>\n",
       "      <th>4</th>\n",
       "      <td>55</td>\n",
       "      <td>Sathyabama Institute of Science and Technology</td>\n",
       "      <td>4.75 Lakh</td>\n",
       "      <td>3.7</td>\n",
       "      <td>3.7</td>\n",
       "      <td>3.8</td>\n",
       "      <td>3.7</td>\n",
       "      <td>3.7</td>\n",
       "    </tr>\n",
       "    <tr>\n",
       "      <th>5</th>\n",
       "      <td>93</td>\n",
       "      <td>Vel Tech Rangarajan Dr. Sagunthala R and D Ins...</td>\n",
       "      <td>9.25 Lakh</td>\n",
       "      <td>3.9</td>\n",
       "      <td>4.1</td>\n",
       "      <td>3.9</td>\n",
       "      <td>4.0</td>\n",
       "      <td>4.0</td>\n",
       "    </tr>\n",
       "    <tr>\n",
       "      <th>6</th>\n",
       "      <td>109</td>\n",
       "      <td>Sri Sai Ram Engineering College</td>\n",
       "      <td>2.00 Lakh</td>\n",
       "      <td>3.8</td>\n",
       "      <td>4.0</td>\n",
       "      <td>4.0</td>\n",
       "      <td>3.6</td>\n",
       "      <td>3.7</td>\n",
       "    </tr>\n",
       "    <tr>\n",
       "      <th>7</th>\n",
       "      <td>110</td>\n",
       "      <td>Rajalakshmi Engineering College</td>\n",
       "      <td>2.00 Lakh</td>\n",
       "      <td>4.4</td>\n",
       "      <td>4.3</td>\n",
       "      <td>4.4</td>\n",
       "      <td>4.5</td>\n",
       "      <td>4.3</td>\n",
       "    </tr>\n",
       "    <tr>\n",
       "      <th>8</th>\n",
       "      <td>112</td>\n",
       "      <td>Crescent School of Life Sciences (B.S.Abdur Ra...</td>\n",
       "      <td>1.50 Lakh</td>\n",
       "      <td>4.2</td>\n",
       "      <td>4.6</td>\n",
       "      <td>4.7</td>\n",
       "      <td>4.7</td>\n",
       "      <td>4.5</td>\n",
       "    </tr>\n",
       "    <tr>\n",
       "      <th>9</th>\n",
       "      <td>121</td>\n",
       "      <td>Saveetha Institute of Medical and Technical Sc...</td>\n",
       "      <td>6.00 Lakh</td>\n",
       "      <td>4.0</td>\n",
       "      <td>4.3</td>\n",
       "      <td>4.0</td>\n",
       "      <td>4.0</td>\n",
       "      <td>3.8</td>\n",
       "    </tr>\n",
       "    <tr>\n",
       "      <th>10</th>\n",
       "      <td>125</td>\n",
       "      <td>VELS School of Engineering</td>\n",
       "      <td>4.36 Lakh</td>\n",
       "      <td>3.4</td>\n",
       "      <td>3.7</td>\n",
       "      <td>3.6</td>\n",
       "      <td>3.8</td>\n",
       "      <td>3.7</td>\n",
       "    </tr>\n",
       "    <tr>\n",
       "      <th>11</th>\n",
       "      <td>172</td>\n",
       "      <td>Hindustan Institute of Technology and Science</td>\n",
       "      <td>10.63 Lakh</td>\n",
       "      <td>3.1</td>\n",
       "      <td>3.9</td>\n",
       "      <td>3.7</td>\n",
       "      <td>3.9</td>\n",
       "      <td>3.5</td>\n",
       "    </tr>\n",
       "    <tr>\n",
       "      <th>12</th>\n",
       "      <td>183</td>\n",
       "      <td>St. Joseph's College of Engineering</td>\n",
       "      <td>2.00 Lakh</td>\n",
       "      <td>3.7</td>\n",
       "      <td>3.9</td>\n",
       "      <td>3.7</td>\n",
       "      <td>3.6</td>\n",
       "      <td>3.7</td>\n",
       "    </tr>\n",
       "    <tr>\n",
       "      <th>13</th>\n",
       "      <td>189</td>\n",
       "      <td>SRM Easwari Engineering College</td>\n",
       "      <td>2.00 Lakh</td>\n",
       "      <td>4.3</td>\n",
       "      <td>4.1</td>\n",
       "      <td>4.3</td>\n",
       "      <td>4.4</td>\n",
       "      <td>4.0</td>\n",
       "    </tr>\n",
       "    <tr>\n",
       "      <th>14</th>\n",
       "      <td>201-250</td>\n",
       "      <td>Chennai Institute of Technology</td>\n",
       "      <td>2.00 Lakh</td>\n",
       "      <td>4.6</td>\n",
       "      <td>4.1</td>\n",
       "      <td>4.4</td>\n",
       "      <td>4.4</td>\n",
       "      <td>4.4</td>\n",
       "    </tr>\n",
       "    <tr>\n",
       "      <th>15</th>\n",
       "      <td>201-250</td>\n",
       "      <td>IIITDM Kancheepuram - Indian Institute of Info...</td>\n",
       "      <td>5.62 Lakh</td>\n",
       "      <td>3.4</td>\n",
       "      <td>4.7</td>\n",
       "      <td>4.3</td>\n",
       "      <td>4.3</td>\n",
       "      <td>4.2</td>\n",
       "    </tr>\n",
       "    <tr>\n",
       "      <th>16</th>\n",
       "      <td>201-250</td>\n",
       "      <td>KCG College of Technology</td>\n",
       "      <td>2.00 Lakh</td>\n",
       "      <td>3.4</td>\n",
       "      <td>3.9</td>\n",
       "      <td>3.8</td>\n",
       "      <td>3.9</td>\n",
       "      <td>3.8</td>\n",
       "    </tr>\n",
       "    <tr>\n",
       "      <th>17</th>\n",
       "      <td>201-250</td>\n",
       "      <td>SEC - Saveetha Engineering College</td>\n",
       "      <td>2.00 Lakh</td>\n",
       "      <td>4.0</td>\n",
       "      <td>4.4</td>\n",
       "      <td>4.0</td>\n",
       "      <td>4.3</td>\n",
       "      <td>3.8</td>\n",
       "    </tr>\n",
       "    <tr>\n",
       "      <th>18</th>\n",
       "      <td>201-250</td>\n",
       "      <td>Sri Sai Ram Institute of Technology</td>\n",
       "      <td>2.20 Lakh</td>\n",
       "      <td>3.6</td>\n",
       "      <td>3.6</td>\n",
       "      <td>3.6</td>\n",
       "      <td>3.3</td>\n",
       "      <td>3.4</td>\n",
       "    </tr>\n",
       "    <tr>\n",
       "      <th>19</th>\n",
       "      <td>201-250</td>\n",
       "      <td>Sri Venkateswara College of Engineering, Kanch...</td>\n",
       "      <td>2.00 Lakh</td>\n",
       "      <td>4.1</td>\n",
       "      <td>4.2</td>\n",
       "      <td>4.2</td>\n",
       "      <td>4.3</td>\n",
       "      <td>4.1</td>\n",
       "    </tr>\n",
       "    <tr>\n",
       "      <th>20</th>\n",
       "      <td>251-300</td>\n",
       "      <td>Academy of Maritime Education and Training</td>\n",
       "      <td>13.90 Lakh</td>\n",
       "      <td>3.4</td>\n",
       "      <td>3.4</td>\n",
       "      <td>4.1</td>\n",
       "      <td>3.7</td>\n",
       "      <td>3.5</td>\n",
       "    </tr>\n",
       "    <tr>\n",
       "      <th>21</th>\n",
       "      <td>251-300</td>\n",
       "      <td>Panimalar Engineering College</td>\n",
       "      <td>2.00 Lakh</td>\n",
       "      <td>3.8</td>\n",
       "      <td>4.6</td>\n",
       "      <td>4.0</td>\n",
       "      <td>3.8</td>\n",
       "      <td>4.0</td>\n",
       "    </tr>\n",
       "  </tbody>\n",
       "</table>\n",
       "</div>"
      ],
      "text/plain": [
       "   NIRF rating                                       College Name  \\\n",
       "0            1        IIT Madras - Indian Institute of Technology   \n",
       "1           18            College of Engineering, Anna University   \n",
       "2           34   SRM Institute of Science and Technology, Chennai   \n",
       "3           45                         SSN College of Engineering   \n",
       "4           55     Sathyabama Institute of Science and Technology   \n",
       "5           93  Vel Tech Rangarajan Dr. Sagunthala R and D Ins...   \n",
       "6          109                    Sri Sai Ram Engineering College   \n",
       "7          110                    Rajalakshmi Engineering College   \n",
       "8          112  Crescent School of Life Sciences (B.S.Abdur Ra...   \n",
       "9          121  Saveetha Institute of Medical and Technical Sc...   \n",
       "10         125                         VELS School of Engineering   \n",
       "11         172      Hindustan Institute of Technology and Science   \n",
       "12         183                St. Joseph's College of Engineering   \n",
       "13         189                    SRM Easwari Engineering College   \n",
       "14     201-250                    Chennai Institute of Technology   \n",
       "15     201-250  IIITDM Kancheepuram - Indian Institute of Info...   \n",
       "16     201-250                          KCG College of Technology   \n",
       "17     201-250                 SEC - Saveetha Engineering College   \n",
       "18     201-250                Sri Sai Ram Institute of Technology   \n",
       "19     201-250  Sri Venkateswara College of Engineering, Kanch...   \n",
       "20     251-300         Academy of Maritime Education and Training   \n",
       "21     251-300                      Panimalar Engineering College   \n",
       "\n",
       "   College fees Placement rating Infrastructure rating Course rating  \\\n",
       "0     8.19 Lakh              4.5                   4.5           4.5   \n",
       "1     2.00 Lakh              4.1                   4.3           4.1   \n",
       "2    16.10 Lakh              3.8                   4.4           3.7   \n",
       "3     2.00 Lakh              4.3                   4.7           4.3   \n",
       "4     4.75 Lakh              3.7                   3.7           3.8   \n",
       "5     9.25 Lakh              3.9                   4.1           3.9   \n",
       "6     2.00 Lakh              3.8                   4.0           4.0   \n",
       "7     2.00 Lakh              4.4                   4.3           4.4   \n",
       "8     1.50 Lakh              4.2                   4.6           4.7   \n",
       "9     6.00 Lakh              4.0                   4.3           4.0   \n",
       "10    4.36 Lakh              3.4                   3.7           3.6   \n",
       "11   10.63 Lakh              3.1                   3.9           3.7   \n",
       "12    2.00 Lakh              3.7                   3.9           3.7   \n",
       "13    2.00 Lakh              4.3                   4.1           4.3   \n",
       "14    2.00 Lakh              4.6                   4.1           4.4   \n",
       "15    5.62 Lakh              3.4                   4.7           4.3   \n",
       "16    2.00 Lakh              3.4                   3.9           3.8   \n",
       "17    2.00 Lakh              4.0                   4.4           4.0   \n",
       "18    2.20 Lakh              3.6                   3.6           3.6   \n",
       "19    2.00 Lakh              4.1                   4.2           4.2   \n",
       "20   13.90 Lakh              3.4                   3.4           4.1   \n",
       "21    2.00 Lakh              3.8                   4.6           4.0   \n",
       "\n",
       "   Campus life Value for money  \n",
       "0          4.8             4.8  \n",
       "1          4.8             4.8  \n",
       "2          4.4             3.6  \n",
       "3          4.7             4.4  \n",
       "4          3.7             3.7  \n",
       "5          4.0             4.0  \n",
       "6          3.6             3.7  \n",
       "7          4.5             4.3  \n",
       "8          4.7             4.5  \n",
       "9          4.0             3.8  \n",
       "10         3.8             3.7  \n",
       "11         3.9             3.5  \n",
       "12         3.6             3.7  \n",
       "13         4.4             4.0  \n",
       "14         4.4             4.4  \n",
       "15         4.3             4.2  \n",
       "16         3.9             3.8  \n",
       "17         4.3             3.8  \n",
       "18         3.3             3.4  \n",
       "19         4.3             4.1  \n",
       "20         3.7             3.5  \n",
       "21         3.8             4.0  "
      ]
     },
     "execution_count": 25,
     "metadata": {},
     "output_type": "execute_result"
    }
   ],
   "source": [
    "df"
   ]
  },
  {
   "cell_type": "code",
   "execution_count": 26,
   "id": "94f8d3d9",
   "metadata": {},
   "outputs": [],
   "source": [
    "df.to_excel(\"Top Engineering College in Chennai.xlsx\")"
   ]
  },
  {
   "cell_type": "markdown",
   "id": "c9b8a3f7",
   "metadata": {},
   "source": [
    "### College Comparison Based on requirement"
   ]
  },
  {
   "cell_type": "code",
   "execution_count": 27,
   "id": "94ff6c27",
   "metadata": {},
   "outputs": [
    {
     "name": "stdout",
     "output_type": "stream",
     "text": [
      "Select one of the college :IIT Madras - Indian Institute of Technology\n"
     ]
    }
   ],
   "source": [
    "req = input('Select one of the college :')"
   ]
  },
  {
   "cell_type": "code",
   "execution_count": 28,
   "id": "a5762f50",
   "metadata": {},
   "outputs": [],
   "source": [
    "name = d['College Name']\n",
    "for i in range(len(name)):\n",
    "    if req == name[i]:\n",
    "        ind= i"
   ]
  },
  {
   "cell_type": "code",
   "execution_count": 29,
   "id": "2ef2b18a",
   "metadata": {},
   "outputs": [
    {
     "data": {
      "text/plain": [
       "0"
      ]
     },
     "execution_count": 29,
     "metadata": {},
     "output_type": "execute_result"
    }
   ],
   "source": [
    "ind"
   ]
  },
  {
   "cell_type": "code",
   "execution_count": 30,
   "id": "9a66d9be",
   "metadata": {},
   "outputs": [],
   "source": [
    "import matplotlib.pyplot as plt\n",
    "import numpy as np"
   ]
  },
  {
   "cell_type": "code",
   "execution_count": 31,
   "id": "db620930",
   "metadata": {},
   "outputs": [],
   "source": [
    "label=['Placement rating','Infrastructure rating','Course rating','Campus life','Value for money']"
   ]
  },
  {
   "cell_type": "code",
   "execution_count": 32,
   "id": "d4063b2d",
   "metadata": {},
   "outputs": [],
   "source": [
    "x=np.array([Placement_rating[ind],Infrastructure_rating[ind],Course_rating[ind],Campuslife[ind],Value_for_money[ind]])"
   ]
  },
  {
   "cell_type": "code",
   "execution_count": 33,
   "id": "45046fff",
   "metadata": {},
   "outputs": [
    {
     "data": {
      "image/png": "[encoded data removed]",
      "text/plain": [
       "<Figure size 432x288 with 1 Axes>"
      ]
     },
     "metadata": {},
     "output_type": "display_data"
    }
   ],
   "source": [
    "plt.pie(x,labels=label)\n",
    "plt.title=req\n",
    "plt.show()"
   ]
  }
 ],
 "metadata": {
  "kernelspec": {
   "display_name": "Python 3 (ipykernel)",
   "language": "python",
   "name": "python3"
  },
  "language_info": {
   "codemirror_mode": {
    "name": "ipython",
    "version": 3
   },
   "file_extension": ".py",
   "mimetype": "text/x-python",
   "name": "python",
   "nbconvert_exporter": "python",
   "pygments_lexer": "ipython3",
   "version": "3.9.7"
  }
 },
 "nbformat": 4,
 "nbformat_minor": 5
}
